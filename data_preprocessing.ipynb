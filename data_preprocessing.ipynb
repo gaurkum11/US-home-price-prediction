{
 "cells": [
  {
   "cell_type": "code",
   "execution_count": 1,
   "metadata": {},
   "outputs": [],
   "source": [
    "import numpy as np \n",
    "import pandas as pd "
   ]
  },
  {
   "cell_type": "code",
   "execution_count": 2,
   "metadata": {},
   "outputs": [],
   "source": [
    "data_dir = \"data/\"\n",
    "df_hpi = pd.read_csv(data_dir + \"home_price_index.csv\")\n",
    "df_construction_pi = pd.read_csv(data_dir + \"construction_price_index.csv\")\n",
    "df_consumer_pi = pd.read_csv(data_dir + \"consumer_price_index.csv\")\n",
    "df_er = pd.read_csv(data_dir + \"employement_rate.csv\")\n",
    "df_ffer = pd.read_csv(data_dir + \"fedral_fund_effective_rate.csv\")\n",
    "df_hs = pd.read_csv(data_dir + \"housing_subsidies.csv\")\n",
    "df_mhi = pd.read_csv(data_dir + \"median_household_income.csv\")\n",
    "df_npu = pd.read_csv(data_dir + \"newly_private_units.csv\")\n",
    "df_cgdp = pd.read_csv(data_dir + \"per_cap_gdp.csv\")\n",
    "df_th = pd.read_csv(data_dir + \"total_household.csv\")\n",
    "df_uer = pd.read_csv(data_dir + \"unemp_rate.csv\")\n",
    "df_wap = pd.read_csv(data_dir + \"working_age_pop.csv\")"
   ]
  },
  {
   "cell_type": "code",
   "execution_count": 3,
   "metadata": {},
   "outputs": [],
   "source": [
    "# Changing dtype of date column\n",
    "# CASE-SHILLER Index\n",
    "df_hpi[\"observation_date\"] = pd.to_datetime(df_hpi[\"observation_date\"])"
   ]
  },
  {
   "cell_type": "code",
   "execution_count": 4,
   "metadata": {},
   "outputs": [],
   "source": [
    "df_hpi = df_hpi[(df_hpi[\"observation_date\"] >= \"2004-01-01\") & \n",
    "                (df_hpi[\"observation_date\"] <= \"2024-12-01\")]\n",
    "\n",
    "\n",
    "df_hpi.reset_index(inplace = True)\n",
    "df_hpi.drop(columns = [\"index\"], inplace = True)\n"
   ]
  },
  {
   "cell_type": "code",
   "execution_count": 5,
   "metadata": {},
   "outputs": [
    {
     "name": "stdout",
     "output_type": "stream",
     "text": [
      "Shape of the CASE-SHILLER Index:-  (252, 4)\n"
     ]
    },
    {
     "data": {
      "text/html": [
       "<div>\n",
       "<style scoped>\n",
       "    .dataframe tbody tr th:only-of-type {\n",
       "        vertical-align: middle;\n",
       "    }\n",
       "\n",
       "    .dataframe tbody tr th {\n",
       "        vertical-align: top;\n",
       "    }\n",
       "\n",
       "    .dataframe thead th {\n",
       "        text-align: right;\n",
       "    }\n",
       "</style>\n",
       "<table border=\"1\" class=\"dataframe\">\n",
       "  <thead>\n",
       "    <tr style=\"text-align: right;\">\n",
       "      <th></th>\n",
       "      <th>observation_date</th>\n",
       "      <th>CSUSHPISA</th>\n",
       "      <th>Year</th>\n",
       "      <th>Month</th>\n",
       "    </tr>\n",
       "  </thead>\n",
       "  <tbody>\n",
       "    <tr>\n",
       "      <th>247</th>\n",
       "      <td>2024-08-01</td>\n",
       "      <td>322.299</td>\n",
       "      <td>2024</td>\n",
       "      <td>8</td>\n",
       "    </tr>\n",
       "    <tr>\n",
       "      <th>248</th>\n",
       "      <td>2024-09-01</td>\n",
       "      <td>323.311</td>\n",
       "      <td>2024</td>\n",
       "      <td>9</td>\n",
       "    </tr>\n",
       "    <tr>\n",
       "      <th>249</th>\n",
       "      <td>2024-10-01</td>\n",
       "      <td>324.491</td>\n",
       "      <td>2024</td>\n",
       "      <td>10</td>\n",
       "    </tr>\n",
       "    <tr>\n",
       "      <th>250</th>\n",
       "      <td>2024-11-01</td>\n",
       "      <td>326.013</td>\n",
       "      <td>2024</td>\n",
       "      <td>11</td>\n",
       "    </tr>\n",
       "    <tr>\n",
       "      <th>251</th>\n",
       "      <td>2024-12-01</td>\n",
       "      <td>327.582</td>\n",
       "      <td>2024</td>\n",
       "      <td>12</td>\n",
       "    </tr>\n",
       "  </tbody>\n",
       "</table>\n",
       "</div>"
      ],
      "text/plain": [
       "    observation_date  CSUSHPISA  Year  Month\n",
       "247       2024-08-01    322.299  2024      8\n",
       "248       2024-09-01    323.311  2024      9\n",
       "249       2024-10-01    324.491  2024     10\n",
       "250       2024-11-01    326.013  2024     11\n",
       "251       2024-12-01    327.582  2024     12"
      ]
     },
     "execution_count": 5,
     "metadata": {},
     "output_type": "execute_result"
    }
   ],
   "source": [
    "# Creating \"Year\" and \"Month\" columns\n",
    "df_hpi[\"Year\"] = pd.DatetimeIndex(df_hpi[\"observation_date\"]).year\n",
    "df_hpi[\"Month\"] = pd.DatetimeIndex(df_hpi[\"observation_date\"]).month\n",
    "print(\"Shape of the CASE-SHILLER Index:- \", df_hpi.shape)\n",
    "df_hpi.tail()\n"
   ]
  },
  {
   "cell_type": "code",
   "execution_count": 6,
   "metadata": {},
   "outputs": [
    {
     "data": {
      "text/html": [
       "<div>\n",
       "<style scoped>\n",
       "    .dataframe tbody tr th:only-of-type {\n",
       "        vertical-align: middle;\n",
       "    }\n",
       "\n",
       "    .dataframe tbody tr th {\n",
       "        vertical-align: top;\n",
       "    }\n",
       "\n",
       "    .dataframe thead th {\n",
       "        text-align: right;\n",
       "    }\n",
       "</style>\n",
       "<table border=\"1\" class=\"dataframe\">\n",
       "  <thead>\n",
       "    <tr style=\"text-align: right;\">\n",
       "      <th></th>\n",
       "      <th>observation_date</th>\n",
       "      <th>Cons_material_index</th>\n",
       "    </tr>\n",
       "  </thead>\n",
       "  <tbody>\n",
       "    <tr>\n",
       "      <th>247</th>\n",
       "      <td>2024-08-01</td>\n",
       "      <td>324.650</td>\n",
       "    </tr>\n",
       "    <tr>\n",
       "      <th>248</th>\n",
       "      <td>2024-09-01</td>\n",
       "      <td>324.100</td>\n",
       "    </tr>\n",
       "    <tr>\n",
       "      <th>249</th>\n",
       "      <td>2024-10-01</td>\n",
       "      <td>325.428</td>\n",
       "    </tr>\n",
       "    <tr>\n",
       "      <th>250</th>\n",
       "      <td>2024-11-01</td>\n",
       "      <td>326.759</td>\n",
       "    </tr>\n",
       "    <tr>\n",
       "      <th>251</th>\n",
       "      <td>2024-12-01</td>\n",
       "      <td>324.957</td>\n",
       "    </tr>\n",
       "  </tbody>\n",
       "</table>\n",
       "</div>"
      ],
      "text/plain": [
       "    observation_date  Cons_material_index\n",
       "247       2024-08-01              324.650\n",
       "248       2024-09-01              324.100\n",
       "249       2024-10-01              325.428\n",
       "250       2024-11-01              326.759\n",
       "251       2024-12-01              324.957"
      ]
     },
     "execution_count": 6,
     "metadata": {},
     "output_type": "execute_result"
    }
   ],
   "source": [
    "#construction price index\n",
    "df_construction_pi[\"observation_date\"] = pd.to_datetime(df_construction_pi[\"observation_date\"])\n",
    "df_construction_pi = df_construction_pi[(df_construction_pi[\"observation_date\"] >= \"2004-01-01\") & \n",
    "                (df_construction_pi[\"observation_date\"] <= \"2024-12-01\")]\n",
    "df_construction_pi = df_construction_pi.rename(columns={'WPUSI012011': 'Cons_material_index'})\n",
    "\n",
    "df_construction_pi.reset_index(inplace = True)\n",
    "df_construction_pi.drop(columns = [\"index\"], inplace = True)\n",
    "\n",
    "df_construction_pi.shape\n",
    "df_construction_pi.tail()"
   ]
  },
  {
   "cell_type": "code",
   "execution_count": 7,
   "metadata": {},
   "outputs": [
    {
     "data": {
      "text/plain": [
       "(252, 2)"
      ]
     },
     "execution_count": 7,
     "metadata": {},
     "output_type": "execute_result"
    }
   ],
   "source": [
    "#consumer price index \n",
    "df_consumer_pi[\"observation_date\"] = pd.to_datetime(df_consumer_pi[\"observation_date\"])\n",
    "df_consumer_pi = df_consumer_pi[(df_consumer_pi[\"observation_date\"] >= \"2004-01-01\") & \n",
    "                (df_consumer_pi[\"observation_date\"] <= \"2024-12-01\")]\n",
    "df_consumer_pi = df_consumer_pi.rename(columns={'CPIAUCSL': 'Consumer_price_index'})\n",
    "\n",
    "df_consumer_pi.reset_index(inplace = True)\n",
    "df_consumer_pi.drop(columns = [\"index\"], inplace = True)\n",
    "\n",
    "df_consumer_pi.shape\n",
    "#df_consumer_pi.tail()"
   ]
  },
  {
   "cell_type": "code",
   "execution_count": 8,
   "metadata": {},
   "outputs": [
    {
     "data": {
      "text/html": [
       "<div>\n",
       "<style scoped>\n",
       "    .dataframe tbody tr th:only-of-type {\n",
       "        vertical-align: middle;\n",
       "    }\n",
       "\n",
       "    .dataframe tbody tr th {\n",
       "        vertical-align: top;\n",
       "    }\n",
       "\n",
       "    .dataframe thead th {\n",
       "        text-align: right;\n",
       "    }\n",
       "</style>\n",
       "<table border=\"1\" class=\"dataframe\">\n",
       "  <thead>\n",
       "    <tr style=\"text-align: right;\">\n",
       "      <th></th>\n",
       "      <th>observation_date</th>\n",
       "      <th>emp_rate</th>\n",
       "    </tr>\n",
       "  </thead>\n",
       "  <tbody>\n",
       "    <tr>\n",
       "      <th>247</th>\n",
       "      <td>2024-08-01</td>\n",
       "      <td>71.73054</td>\n",
       "    </tr>\n",
       "    <tr>\n",
       "      <th>248</th>\n",
       "      <td>2024-09-01</td>\n",
       "      <td>71.87183</td>\n",
       "    </tr>\n",
       "    <tr>\n",
       "      <th>249</th>\n",
       "      <td>2024-10-01</td>\n",
       "      <td>71.70908</td>\n",
       "    </tr>\n",
       "    <tr>\n",
       "      <th>250</th>\n",
       "      <td>2024-11-01</td>\n",
       "      <td>71.64780</td>\n",
       "    </tr>\n",
       "    <tr>\n",
       "      <th>251</th>\n",
       "      <td>2024-12-01</td>\n",
       "      <td>71.88726</td>\n",
       "    </tr>\n",
       "  </tbody>\n",
       "</table>\n",
       "</div>"
      ],
      "text/plain": [
       "    observation_date  emp_rate\n",
       "247       2024-08-01  71.73054\n",
       "248       2024-09-01  71.87183\n",
       "249       2024-10-01  71.70908\n",
       "250       2024-11-01  71.64780\n",
       "251       2024-12-01  71.88726"
      ]
     },
     "execution_count": 8,
     "metadata": {},
     "output_type": "execute_result"
    }
   ],
   "source": [
    "#Employement_rate\n",
    "df_er[\"observation_date\"] = pd.to_datetime(df_er[\"observation_date\"])\n",
    "df_er = df_er[(df_er[\"observation_date\"] >= \"2004-01-01\") & \n",
    "                (df_er[\"observation_date\"] <= \"2024-12-01\")]\n",
    "df_er = df_er.rename(columns={'LREM64TTUSM156S': 'emp_rate'})\n",
    "\n",
    "df_er.reset_index(inplace = True)\n",
    "df_er.drop(columns = [\"index\"], inplace = True)\n",
    "\n",
    "df_er.shape\n",
    "df_er.tail()"
   ]
  },
  {
   "cell_type": "code",
   "execution_count": 9,
   "metadata": {},
   "outputs": [
    {
     "data": {
      "text/html": [
       "<div>\n",
       "<style scoped>\n",
       "    .dataframe tbody tr th:only-of-type {\n",
       "        vertical-align: middle;\n",
       "    }\n",
       "\n",
       "    .dataframe tbody tr th {\n",
       "        vertical-align: top;\n",
       "    }\n",
       "\n",
       "    .dataframe thead th {\n",
       "        text-align: right;\n",
       "    }\n",
       "</style>\n",
       "<table border=\"1\" class=\"dataframe\">\n",
       "  <thead>\n",
       "    <tr style=\"text-align: right;\">\n",
       "      <th></th>\n",
       "      <th>observation_date</th>\n",
       "      <th>fed_eff_r</th>\n",
       "    </tr>\n",
       "  </thead>\n",
       "  <tbody>\n",
       "    <tr>\n",
       "      <th>247</th>\n",
       "      <td>2024-08-01</td>\n",
       "      <td>5.33</td>\n",
       "    </tr>\n",
       "    <tr>\n",
       "      <th>248</th>\n",
       "      <td>2024-09-01</td>\n",
       "      <td>5.13</td>\n",
       "    </tr>\n",
       "    <tr>\n",
       "      <th>249</th>\n",
       "      <td>2024-10-01</td>\n",
       "      <td>4.83</td>\n",
       "    </tr>\n",
       "    <tr>\n",
       "      <th>250</th>\n",
       "      <td>2024-11-01</td>\n",
       "      <td>4.64</td>\n",
       "    </tr>\n",
       "    <tr>\n",
       "      <th>251</th>\n",
       "      <td>2024-12-01</td>\n",
       "      <td>4.48</td>\n",
       "    </tr>\n",
       "  </tbody>\n",
       "</table>\n",
       "</div>"
      ],
      "text/plain": [
       "    observation_date  fed_eff_r\n",
       "247       2024-08-01       5.33\n",
       "248       2024-09-01       5.13\n",
       "249       2024-10-01       4.83\n",
       "250       2024-11-01       4.64\n",
       "251       2024-12-01       4.48"
      ]
     },
     "execution_count": 9,
     "metadata": {},
     "output_type": "execute_result"
    }
   ],
   "source": [
    "#Federal Funds Effective Rate\n",
    "df_ffer[\"observation_date\"] = pd.to_datetime(df_ffer[\"observation_date\"])\n",
    "df_ffer = df_ffer[(df_ffer[\"observation_date\"] >= \"2004-01-01\") & \n",
    "                (df_ffer[\"observation_date\"] <= \"2024-12-01\")]\n",
    "df_ffer = df_ffer.rename(columns={'FEDFUNDS': 'fed_eff_r'})\n",
    "\n",
    "df_ffer.reset_index(inplace = True)\n",
    "df_ffer.drop(columns = [\"index\"], inplace = True)\n",
    "\n",
    "df_ffer.shape\n",
    "df_ffer.tail()"
   ]
  },
  {
   "cell_type": "code",
   "execution_count": 10,
   "metadata": {},
   "outputs": [
    {
     "data": {
      "text/html": [
       "<div>\n",
       "<style scoped>\n",
       "    .dataframe tbody tr th:only-of-type {\n",
       "        vertical-align: middle;\n",
       "    }\n",
       "\n",
       "    .dataframe tbody tr th {\n",
       "        vertical-align: top;\n",
       "    }\n",
       "\n",
       "    .dataframe thead th {\n",
       "        text-align: right;\n",
       "    }\n",
       "</style>\n",
       "<table border=\"1\" class=\"dataframe\">\n",
       "  <thead>\n",
       "    <tr style=\"text-align: right;\">\n",
       "      <th></th>\n",
       "      <th>observation_date</th>\n",
       "      <th>housing_subs</th>\n",
       "    </tr>\n",
       "  </thead>\n",
       "  <tbody>\n",
       "    <tr>\n",
       "      <th>15</th>\n",
       "      <td>2019-01-01</td>\n",
       "      <td>40.185</td>\n",
       "    </tr>\n",
       "    <tr>\n",
       "      <th>16</th>\n",
       "      <td>2020-01-01</td>\n",
       "      <td>44.147</td>\n",
       "    </tr>\n",
       "    <tr>\n",
       "      <th>17</th>\n",
       "      <td>2021-01-01</td>\n",
       "      <td>45.299</td>\n",
       "    </tr>\n",
       "    <tr>\n",
       "      <th>18</th>\n",
       "      <td>2022-01-01</td>\n",
       "      <td>48.021</td>\n",
       "    </tr>\n",
       "    <tr>\n",
       "      <th>19</th>\n",
       "      <td>2023-01-01</td>\n",
       "      <td>53.573</td>\n",
       "    </tr>\n",
       "  </tbody>\n",
       "</table>\n",
       "</div>"
      ],
      "text/plain": [
       "   observation_date  housing_subs\n",
       "15       2019-01-01        40.185\n",
       "16       2020-01-01        44.147\n",
       "17       2021-01-01        45.299\n",
       "18       2022-01-01        48.021\n",
       "19       2023-01-01        53.573"
      ]
     },
     "execution_count": 10,
     "metadata": {},
     "output_type": "execute_result"
    }
   ],
   "source": [
    "#Housing Subsidies\n",
    "df_hs[\"observation_date\"] = pd.to_datetime(df_hs[\"observation_date\"])\n",
    "df_hs = df_hs[(df_hs[\"observation_date\"] >= \"2004-01-01\") & \n",
    "                (df_hs[\"observation_date\"] <= \"2024-12-01\")]\n",
    "df_hs = df_hs.rename(columns={'L312051A027NBEA': 'housing_subs'})\n",
    "\n",
    "df_hs.reset_index(inplace = True)\n",
    "df_hs.drop(columns = [\"index\"], inplace = True)\n",
    "\n",
    "df_hs.shape\n",
    "df_hs.tail()"
   ]
  },
  {
   "cell_type": "code",
   "execution_count": 11,
   "metadata": {},
   "outputs": [
    {
     "data": {
      "text/plain": [
       "(20, 2)"
      ]
     },
     "execution_count": 11,
     "metadata": {},
     "output_type": "execute_result"
    }
   ],
   "source": [
    "#Real Median Household Income in the United States\n",
    "df_mhi[\"observation_date\"] = pd.to_datetime(df_mhi[\"observation_date\"])\n",
    "df_mhi = df_mhi[(df_mhi[\"observation_date\"] >= \"2004-01-01\") & \n",
    "                (df_mhi[\"observation_date\"] <= \"2024-12-01\")]\n",
    "df_mhi = df_mhi.rename(columns={'MEHOINUSA672N': 'med_house_inocome'})\n",
    "\n",
    "df_mhi.reset_index(inplace = True)\n",
    "df_mhi.drop(columns = [\"index\"], inplace = True)\n",
    "\n",
    "df_mhi.shape\n",
    "#df_mhi.tail()"
   ]
  },
  {
   "cell_type": "code",
   "execution_count": 12,
   "metadata": {},
   "outputs": [
    {
     "data": {
      "text/html": [
       "<div>\n",
       "<style scoped>\n",
       "    .dataframe tbody tr th:only-of-type {\n",
       "        vertical-align: middle;\n",
       "    }\n",
       "\n",
       "    .dataframe tbody tr th {\n",
       "        vertical-align: top;\n",
       "    }\n",
       "\n",
       "    .dataframe thead th {\n",
       "        text-align: right;\n",
       "    }\n",
       "</style>\n",
       "<table border=\"1\" class=\"dataframe\">\n",
       "  <thead>\n",
       "    <tr style=\"text-align: right;\">\n",
       "      <th></th>\n",
       "      <th>observation_date</th>\n",
       "      <th>new_pvt_units</th>\n",
       "    </tr>\n",
       "  </thead>\n",
       "  <tbody>\n",
       "    <tr>\n",
       "      <th>247</th>\n",
       "      <td>2024-08-01</td>\n",
       "      <td>1379</td>\n",
       "    </tr>\n",
       "    <tr>\n",
       "      <th>248</th>\n",
       "      <td>2024-09-01</td>\n",
       "      <td>1355</td>\n",
       "    </tr>\n",
       "    <tr>\n",
       "      <th>249</th>\n",
       "      <td>2024-10-01</td>\n",
       "      <td>1344</td>\n",
       "    </tr>\n",
       "    <tr>\n",
       "      <th>250</th>\n",
       "      <td>2024-11-01</td>\n",
       "      <td>1305</td>\n",
       "    </tr>\n",
       "    <tr>\n",
       "      <th>251</th>\n",
       "      <td>2024-12-01</td>\n",
       "      <td>1526</td>\n",
       "    </tr>\n",
       "  </tbody>\n",
       "</table>\n",
       "</div>"
      ],
      "text/plain": [
       "    observation_date  new_pvt_units\n",
       "247       2024-08-01           1379\n",
       "248       2024-09-01           1355\n",
       "249       2024-10-01           1344\n",
       "250       2024-11-01           1305\n",
       "251       2024-12-01           1526"
      ]
     },
     "execution_count": 12,
     "metadata": {},
     "output_type": "execute_result"
    }
   ],
   "source": [
    "#Newly private Units\n",
    "df_npu[\"observation_date\"] = pd.to_datetime(df_npu[\"observation_date\"])\n",
    "df_npu = df_npu[(df_npu[\"observation_date\"] >= \"2004-01-01\") & \n",
    "                (df_npu[\"observation_date\"] <= \"2024-12-01\")]\n",
    "df_npu = df_npu.rename(columns={'HOUST': 'new_pvt_units'})\n",
    "\n",
    "df_npu.reset_index(inplace = True)\n",
    "df_npu.drop(columns = [\"index\"], inplace = True)\n",
    "\n",
    "df_npu.shape\n",
    "df_npu.tail()"
   ]
  },
  {
   "cell_type": "code",
   "execution_count": 13,
   "metadata": {},
   "outputs": [
    {
     "data": {
      "text/plain": [
       "(84, 2)"
      ]
     },
     "execution_count": 13,
     "metadata": {},
     "output_type": "execute_result"
    }
   ],
   "source": [
    "#Per capita GDP\n",
    "df_cgdp[\"observation_date\"] = pd.to_datetime(df_cgdp[\"observation_date\"])\n",
    "df_cgdp = df_cgdp[(df_cgdp[\"observation_date\"] >= \"2004-01-01\") & \n",
    "                (df_cgdp[\"observation_date\"] <= \"2024-12-01\")]\n",
    "df_cgdp = df_cgdp.rename(columns={'A939RX0Q048SBEA': 'per_cap_gpd'})\n",
    "\n",
    "df_cgdp.reset_index(inplace = True)\n",
    "df_cgdp.drop(columns = [\"index\"], inplace = True)\n",
    "\n",
    "df_cgdp.shape\n",
    "#df_cgdp.tail()"
   ]
  },
  {
   "cell_type": "code",
   "execution_count": 14,
   "metadata": {},
   "outputs": [
    {
     "data": {
      "text/plain": [
       "(21, 2)"
      ]
     },
     "execution_count": 14,
     "metadata": {},
     "output_type": "execute_result"
    }
   ],
   "source": [
    "#total Households\n",
    "df_th[\"observation_date\"] = pd.to_datetime(df_th[\"observation_date\"])\n",
    "df_th = df_th[(df_th[\"observation_date\"] >= \"2004-01-01\") & \n",
    "                (df_th[\"observation_date\"] <= \"2024-12-01\")]\n",
    "df_th = df_th.rename(columns={'TTLHH': 'total_housholds'})\n",
    "\n",
    "df_th.reset_index(inplace = True)\n",
    "df_th.drop(columns = [\"index\"], inplace = True)\n",
    "\n",
    "df_th.shape\n",
    "#df_th.tail()"
   ]
  },
  {
   "cell_type": "code",
   "execution_count": 15,
   "metadata": {},
   "outputs": [
    {
     "data": {
      "text/html": [
       "<div>\n",
       "<style scoped>\n",
       "    .dataframe tbody tr th:only-of-type {\n",
       "        vertical-align: middle;\n",
       "    }\n",
       "\n",
       "    .dataframe tbody tr th {\n",
       "        vertical-align: top;\n",
       "    }\n",
       "\n",
       "    .dataframe thead th {\n",
       "        text-align: right;\n",
       "    }\n",
       "</style>\n",
       "<table border=\"1\" class=\"dataframe\">\n",
       "  <thead>\n",
       "    <tr style=\"text-align: right;\">\n",
       "      <th></th>\n",
       "      <th>observation_date</th>\n",
       "      <th>unemp_rate</th>\n",
       "    </tr>\n",
       "  </thead>\n",
       "  <tbody>\n",
       "    <tr>\n",
       "      <th>247</th>\n",
       "      <td>2024-08-01</td>\n",
       "      <td>4.2</td>\n",
       "    </tr>\n",
       "    <tr>\n",
       "      <th>248</th>\n",
       "      <td>2024-09-01</td>\n",
       "      <td>4.1</td>\n",
       "    </tr>\n",
       "    <tr>\n",
       "      <th>249</th>\n",
       "      <td>2024-10-01</td>\n",
       "      <td>4.1</td>\n",
       "    </tr>\n",
       "    <tr>\n",
       "      <th>250</th>\n",
       "      <td>2024-11-01</td>\n",
       "      <td>4.2</td>\n",
       "    </tr>\n",
       "    <tr>\n",
       "      <th>251</th>\n",
       "      <td>2024-12-01</td>\n",
       "      <td>4.1</td>\n",
       "    </tr>\n",
       "  </tbody>\n",
       "</table>\n",
       "</div>"
      ],
      "text/plain": [
       "    observation_date  unemp_rate\n",
       "247       2024-08-01         4.2\n",
       "248       2024-09-01         4.1\n",
       "249       2024-10-01         4.1\n",
       "250       2024-11-01         4.2\n",
       "251       2024-12-01         4.1"
      ]
     },
     "execution_count": 15,
     "metadata": {},
     "output_type": "execute_result"
    }
   ],
   "source": [
    "#Unemployement Rate\n",
    "df_uer[\"observation_date\"] = pd.to_datetime(df_uer[\"observation_date\"])\n",
    "df_uer = df_uer[(df_uer[\"observation_date\"] >= \"2004-01-01\") & \n",
    "                (df_uer[\"observation_date\"] <= \"2024-12-01\")]\n",
    "df_uer = df_uer.rename(columns={'UNRATE': 'unemp_rate'})\n",
    "\n",
    "df_uer.reset_index(inplace = True)\n",
    "df_uer.drop(columns = [\"index\"], inplace = True)\n",
    "\n",
    "df_uer.shape\n",
    "df_uer.tail()"
   ]
  },
  {
   "cell_type": "code",
   "execution_count": 16,
   "metadata": {},
   "outputs": [
    {
     "data": {
      "text/plain": [
       "(252, 2)"
      ]
     },
     "execution_count": 16,
     "metadata": {},
     "output_type": "execute_result"
    }
   ],
   "source": [
    "#Working age population\n",
    "df_wap[\"observation_date\"] = pd.to_datetime(df_wap[\"observation_date\"])\n",
    "df_wap = df_wap[(df_wap[\"observation_date\"] >= \"2004-01-01\") & \n",
    "                (df_wap[\"observation_date\"] <= \"2024-12-01\")]\n",
    "df_wap = df_wap.rename(columns={'LFWA64TTUSM647S': 'workin_pop'})\n",
    "\n",
    "df_wap.reset_index(inplace = True)\n",
    "df_wap.drop(columns = [\"index\"], inplace = True)\n",
    "\n",
    "df_wap.shape\n",
    "#df_wap.tail()"
   ]
  },
  {
   "cell_type": "code",
   "execution_count": 17,
   "metadata": {},
   "outputs": [
    {
     "data": {
      "text/html": [
       "<div>\n",
       "<style scoped>\n",
       "    .dataframe tbody tr th:only-of-type {\n",
       "        vertical-align: middle;\n",
       "    }\n",
       "\n",
       "    .dataframe tbody tr th {\n",
       "        vertical-align: top;\n",
       "    }\n",
       "\n",
       "    .dataframe thead th {\n",
       "        text-align: right;\n",
       "    }\n",
       "</style>\n",
       "<table border=\"1\" class=\"dataframe\">\n",
       "  <thead>\n",
       "    <tr style=\"text-align: right;\">\n",
       "      <th></th>\n",
       "      <th>observation_date</th>\n",
       "      <th>CSUSHPISA</th>\n",
       "      <th>Year</th>\n",
       "      <th>Month</th>\n",
       "      <th>per_cap_gpd</th>\n",
       "    </tr>\n",
       "  </thead>\n",
       "  <tbody>\n",
       "    <tr>\n",
       "      <th>0</th>\n",
       "      <td>2004-01-01</td>\n",
       "      <td>141.646</td>\n",
       "      <td>2004</td>\n",
       "      <td>1</td>\n",
       "      <td>52179.0</td>\n",
       "    </tr>\n",
       "    <tr>\n",
       "      <th>1</th>\n",
       "      <td>2004-02-01</td>\n",
       "      <td>143.191</td>\n",
       "      <td>2004</td>\n",
       "      <td>2</td>\n",
       "      <td>NaN</td>\n",
       "    </tr>\n",
       "    <tr>\n",
       "      <th>2</th>\n",
       "      <td>2004-03-01</td>\n",
       "      <td>145.058</td>\n",
       "      <td>2004</td>\n",
       "      <td>3</td>\n",
       "      <td>NaN</td>\n",
       "    </tr>\n",
       "    <tr>\n",
       "      <th>3</th>\n",
       "      <td>2004-04-01</td>\n",
       "      <td>146.593</td>\n",
       "      <td>2004</td>\n",
       "      <td>4</td>\n",
       "      <td>52469.0</td>\n",
       "    </tr>\n",
       "    <tr>\n",
       "      <th>4</th>\n",
       "      <td>2004-05-01</td>\n",
       "      <td>148.186</td>\n",
       "      <td>2004</td>\n",
       "      <td>5</td>\n",
       "      <td>NaN</td>\n",
       "    </tr>\n",
       "  </tbody>\n",
       "</table>\n",
       "</div>"
      ],
      "text/plain": [
       "  observation_date  CSUSHPISA  Year  Month  per_cap_gpd\n",
       "0       2004-01-01    141.646  2004      1      52179.0\n",
       "1       2004-02-01    143.191  2004      2          NaN\n",
       "2       2004-03-01    145.058  2004      3          NaN\n",
       "3       2004-04-01    146.593  2004      4      52469.0\n",
       "4       2004-05-01    148.186  2004      5          NaN"
      ]
     },
     "execution_count": 17,
     "metadata": {},
     "output_type": "execute_result"
    }
   ],
   "source": [
    "#per capita gdp quarterly available merging it with CASE-SHILLER Index\n",
    "df_hpi = pd.merge(df_hpi,df_cgdp, how = \"left\")\n",
    "df_hpi.head()\n"
   ]
  },
  {
   "cell_type": "code",
   "execution_count": 18,
   "metadata": {},
   "outputs": [
    {
     "name": "stdout",
     "output_type": "stream",
     "text": [
      "(252, 11)\n"
     ]
    },
    {
     "data": {
      "text/html": [
       "<div>\n",
       "<style scoped>\n",
       "    .dataframe tbody tr th:only-of-type {\n",
       "        vertical-align: middle;\n",
       "    }\n",
       "\n",
       "    .dataframe tbody tr th {\n",
       "        vertical-align: top;\n",
       "    }\n",
       "\n",
       "    .dataframe thead th {\n",
       "        text-align: right;\n",
       "    }\n",
       "</style>\n",
       "<table border=\"1\" class=\"dataframe\">\n",
       "  <thead>\n",
       "    <tr style=\"text-align: right;\">\n",
       "      <th></th>\n",
       "      <th>CSUSHPISA</th>\n",
       "      <th>Year</th>\n",
       "      <th>Month</th>\n",
       "      <th>per_cap_gpd</th>\n",
       "      <th>Cons_material_index</th>\n",
       "      <th>Consumer_price_index</th>\n",
       "      <th>emp_rate</th>\n",
       "      <th>unemp_rate</th>\n",
       "      <th>fed_eff_r</th>\n",
       "      <th>new_pvt_units</th>\n",
       "      <th>workin_pop</th>\n",
       "    </tr>\n",
       "    <tr>\n",
       "      <th>observation_date</th>\n",
       "      <th></th>\n",
       "      <th></th>\n",
       "      <th></th>\n",
       "      <th></th>\n",
       "      <th></th>\n",
       "      <th></th>\n",
       "      <th></th>\n",
       "      <th></th>\n",
       "      <th></th>\n",
       "      <th></th>\n",
       "      <th></th>\n",
       "    </tr>\n",
       "  </thead>\n",
       "  <tbody>\n",
       "    <tr>\n",
       "      <th>2004-01-01</th>\n",
       "      <td>141.646</td>\n",
       "      <td>2004</td>\n",
       "      <td>1</td>\n",
       "      <td>52179.0</td>\n",
       "      <td>150.0</td>\n",
       "      <td>186.3</td>\n",
       "      <td>71.26087</td>\n",
       "      <td>5.7</td>\n",
       "      <td>1.00</td>\n",
       "      <td>1911</td>\n",
       "      <td>187566400</td>\n",
       "    </tr>\n",
       "    <tr>\n",
       "      <th>2004-02-01</th>\n",
       "      <td>143.191</td>\n",
       "      <td>2004</td>\n",
       "      <td>2</td>\n",
       "      <td>NaN</td>\n",
       "      <td>153.4</td>\n",
       "      <td>186.7</td>\n",
       "      <td>71.20327</td>\n",
       "      <td>5.6</td>\n",
       "      <td>1.01</td>\n",
       "      <td>1846</td>\n",
       "      <td>187831900</td>\n",
       "    </tr>\n",
       "    <tr>\n",
       "      <th>2004-03-01</th>\n",
       "      <td>145.058</td>\n",
       "      <td>2004</td>\n",
       "      <td>3</td>\n",
       "      <td>NaN</td>\n",
       "      <td>156.5</td>\n",
       "      <td>187.1</td>\n",
       "      <td>71.04633</td>\n",
       "      <td>5.8</td>\n",
       "      <td>1.00</td>\n",
       "      <td>1998</td>\n",
       "      <td>188107500</td>\n",
       "    </tr>\n",
       "    <tr>\n",
       "      <th>2004-04-01</th>\n",
       "      <td>146.593</td>\n",
       "      <td>2004</td>\n",
       "      <td>4</td>\n",
       "      <td>52469.0</td>\n",
       "      <td>160.1</td>\n",
       "      <td>187.4</td>\n",
       "      <td>71.19505</td>\n",
       "      <td>5.6</td>\n",
       "      <td>1.00</td>\n",
       "      <td>2003</td>\n",
       "      <td>188338100</td>\n",
       "    </tr>\n",
       "    <tr>\n",
       "      <th>2004-05-01</th>\n",
       "      <td>148.186</td>\n",
       "      <td>2004</td>\n",
       "      <td>5</td>\n",
       "      <td>NaN</td>\n",
       "      <td>162.7</td>\n",
       "      <td>188.2</td>\n",
       "      <td>71.14198</td>\n",
       "      <td>5.6</td>\n",
       "      <td>1.00</td>\n",
       "      <td>1981</td>\n",
       "      <td>188541300</td>\n",
       "    </tr>\n",
       "  </tbody>\n",
       "</table>\n",
       "</div>"
      ],
      "text/plain": [
       "                  CSUSHPISA  Year  Month  per_cap_gpd  Cons_material_index  \\\n",
       "observation_date                                                             \n",
       "2004-01-01          141.646  2004      1      52179.0                150.0   \n",
       "2004-02-01          143.191  2004      2          NaN                153.4   \n",
       "2004-03-01          145.058  2004      3          NaN                156.5   \n",
       "2004-04-01          146.593  2004      4      52469.0                160.1   \n",
       "2004-05-01          148.186  2004      5          NaN                162.7   \n",
       "\n",
       "                  Consumer_price_index  emp_rate  unemp_rate  fed_eff_r  \\\n",
       "observation_date                                                          \n",
       "2004-01-01                       186.3  71.26087         5.7       1.00   \n",
       "2004-02-01                       186.7  71.20327         5.6       1.01   \n",
       "2004-03-01                       187.1  71.04633         5.8       1.00   \n",
       "2004-04-01                       187.4  71.19505         5.6       1.00   \n",
       "2004-05-01                       188.2  71.14198         5.6       1.00   \n",
       "\n",
       "                  new_pvt_units  workin_pop  \n",
       "observation_date                             \n",
       "2004-01-01                 1911   187566400  \n",
       "2004-02-01                 1846   187831900  \n",
       "2004-03-01                 1998   188107500  \n",
       "2004-04-01                 2003   188338100  \n",
       "2004-05-01                 1981   188541300  "
      ]
     },
     "execution_count": 18,
     "metadata": {},
     "output_type": "execute_result"
    }
   ],
   "source": [
    "#merging dataframe having monthly data\n",
    "df = pd.DataFrame()\n",
    "df_mon = [df_hpi, df_construction_pi, df_consumer_pi, df_er, df_uer, df_ffer, df_npu, df_wap]\n",
    "for df1 in df_mon:\n",
    "    df1 = df1.set_index(\"observation_date\")\n",
    "    df = pd.concat([df,df1], axis = 1)\n",
    "print(df.shape)\n",
    "df.head()"
   ]
  },
  {
   "cell_type": "code",
   "execution_count": 19,
   "metadata": {},
   "outputs": [
    {
     "data": {
      "text/html": [
       "<div>\n",
       "<style scoped>\n",
       "    .dataframe tbody tr th:only-of-type {\n",
       "        vertical-align: middle;\n",
       "    }\n",
       "\n",
       "    .dataframe tbody tr th {\n",
       "        vertical-align: top;\n",
       "    }\n",
       "\n",
       "    .dataframe thead th {\n",
       "        text-align: right;\n",
       "    }\n",
       "</style>\n",
       "<table border=\"1\" class=\"dataframe\">\n",
       "  <thead>\n",
       "    <tr style=\"text-align: right;\">\n",
       "      <th></th>\n",
       "      <th>CSUSHPISA</th>\n",
       "      <th>Year</th>\n",
       "      <th>Month</th>\n",
       "      <th>per_cap_gpd</th>\n",
       "      <th>Cons_material_index</th>\n",
       "      <th>Consumer_price_index</th>\n",
       "      <th>emp_rate</th>\n",
       "      <th>unemp_rate</th>\n",
       "      <th>fed_eff_r</th>\n",
       "      <th>new_pvt_units</th>\n",
       "      <th>workin_pop</th>\n",
       "      <th>housing_subs</th>\n",
       "      <th>total_housholds</th>\n",
       "      <th>med_house_inocome</th>\n",
       "    </tr>\n",
       "    <tr>\n",
       "      <th>observation_date</th>\n",
       "      <th></th>\n",
       "      <th></th>\n",
       "      <th></th>\n",
       "      <th></th>\n",
       "      <th></th>\n",
       "      <th></th>\n",
       "      <th></th>\n",
       "      <th></th>\n",
       "      <th></th>\n",
       "      <th></th>\n",
       "      <th></th>\n",
       "      <th></th>\n",
       "      <th></th>\n",
       "      <th></th>\n",
       "    </tr>\n",
       "  </thead>\n",
       "  <tbody>\n",
       "    <tr>\n",
       "      <th>2004-01-01</th>\n",
       "      <td>141.646</td>\n",
       "      <td>2004</td>\n",
       "      <td>1</td>\n",
       "      <td>52179.0</td>\n",
       "      <td>150.0</td>\n",
       "      <td>186.3</td>\n",
       "      <td>71.26087</td>\n",
       "      <td>5.7</td>\n",
       "      <td>1.00</td>\n",
       "      <td>1911</td>\n",
       "      <td>187566400</td>\n",
       "      <td>27.201</td>\n",
       "      <td>112000.0</td>\n",
       "      <td>68250.0</td>\n",
       "    </tr>\n",
       "    <tr>\n",
       "      <th>2004-02-01</th>\n",
       "      <td>143.191</td>\n",
       "      <td>2004</td>\n",
       "      <td>2</td>\n",
       "      <td>NaN</td>\n",
       "      <td>153.4</td>\n",
       "      <td>186.7</td>\n",
       "      <td>71.20327</td>\n",
       "      <td>5.6</td>\n",
       "      <td>1.01</td>\n",
       "      <td>1846</td>\n",
       "      <td>187831900</td>\n",
       "      <td>27.201</td>\n",
       "      <td>112000.0</td>\n",
       "      <td>68250.0</td>\n",
       "    </tr>\n",
       "    <tr>\n",
       "      <th>2004-03-01</th>\n",
       "      <td>145.058</td>\n",
       "      <td>2004</td>\n",
       "      <td>3</td>\n",
       "      <td>NaN</td>\n",
       "      <td>156.5</td>\n",
       "      <td>187.1</td>\n",
       "      <td>71.04633</td>\n",
       "      <td>5.8</td>\n",
       "      <td>1.00</td>\n",
       "      <td>1998</td>\n",
       "      <td>188107500</td>\n",
       "      <td>27.201</td>\n",
       "      <td>112000.0</td>\n",
       "      <td>68250.0</td>\n",
       "    </tr>\n",
       "    <tr>\n",
       "      <th>2004-04-01</th>\n",
       "      <td>146.593</td>\n",
       "      <td>2004</td>\n",
       "      <td>4</td>\n",
       "      <td>52469.0</td>\n",
       "      <td>160.1</td>\n",
       "      <td>187.4</td>\n",
       "      <td>71.19505</td>\n",
       "      <td>5.6</td>\n",
       "      <td>1.00</td>\n",
       "      <td>2003</td>\n",
       "      <td>188338100</td>\n",
       "      <td>27.201</td>\n",
       "      <td>112000.0</td>\n",
       "      <td>68250.0</td>\n",
       "    </tr>\n",
       "    <tr>\n",
       "      <th>2004-05-01</th>\n",
       "      <td>148.186</td>\n",
       "      <td>2004</td>\n",
       "      <td>5</td>\n",
       "      <td>NaN</td>\n",
       "      <td>162.7</td>\n",
       "      <td>188.2</td>\n",
       "      <td>71.14198</td>\n",
       "      <td>5.6</td>\n",
       "      <td>1.00</td>\n",
       "      <td>1981</td>\n",
       "      <td>188541300</td>\n",
       "      <td>27.201</td>\n",
       "      <td>112000.0</td>\n",
       "      <td>68250.0</td>\n",
       "    </tr>\n",
       "  </tbody>\n",
       "</table>\n",
       "</div>"
      ],
      "text/plain": [
       "                  CSUSHPISA  Year  Month  per_cap_gpd  Cons_material_index  \\\n",
       "observation_date                                                             \n",
       "2004-01-01          141.646  2004      1      52179.0                150.0   \n",
       "2004-02-01          143.191  2004      2          NaN                153.4   \n",
       "2004-03-01          145.058  2004      3          NaN                156.5   \n",
       "2004-04-01          146.593  2004      4      52469.0                160.1   \n",
       "2004-05-01          148.186  2004      5          NaN                162.7   \n",
       "\n",
       "                  Consumer_price_index  emp_rate  unemp_rate  fed_eff_r  \\\n",
       "observation_date                                                          \n",
       "2004-01-01                       186.3  71.26087         5.7       1.00   \n",
       "2004-02-01                       186.7  71.20327         5.6       1.01   \n",
       "2004-03-01                       187.1  71.04633         5.8       1.00   \n",
       "2004-04-01                       187.4  71.19505         5.6       1.00   \n",
       "2004-05-01                       188.2  71.14198         5.6       1.00   \n",
       "\n",
       "                  new_pvt_units  workin_pop  housing_subs  total_housholds  \\\n",
       "observation_date                                                             \n",
       "2004-01-01                 1911   187566400        27.201         112000.0   \n",
       "2004-02-01                 1846   187831900        27.201         112000.0   \n",
       "2004-03-01                 1998   188107500        27.201         112000.0   \n",
       "2004-04-01                 2003   188338100        27.201         112000.0   \n",
       "2004-05-01                 1981   188541300        27.201         112000.0   \n",
       "\n",
       "                  med_house_inocome  \n",
       "observation_date                     \n",
       "2004-01-01                  68250.0  \n",
       "2004-02-01                  68250.0  \n",
       "2004-03-01                  68250.0  \n",
       "2004-04-01                  68250.0  \n",
       "2004-05-01                  68250.0  "
      ]
     },
     "execution_count": 19,
     "metadata": {},
     "output_type": "execute_result"
    }
   ],
   "source": [
    "# Merging other dataframes \n",
    "yearly_df = [df_hs, df_th, df_mhi]\n",
    "for df1 in yearly_df:\n",
    "    if \"Year\" not in df1.columns:\n",
    "        df1[\"Year\"] = pd.DatetimeIndex(df1[\"observation_date\"]).year\n",
    "        df1.set_index(\"observation_date\", inplace = True)\n",
    "        df = pd.merge(df, df1, how = \"left\", on = \"Year\")\n",
    "    else:\n",
    "        df1.set_index(\"observation_date\", inplace = True)\n",
    "        df = pd.merge(df, df1, how = \"left\", on = \"Year\")\n",
    "df[\"observation_date\"] = df_hpi[\"observation_date\"]\n",
    "df.set_index(\"observation_date\", inplace = True)\n",
    "df.head()"
   ]
  },
  {
   "cell_type": "code",
   "execution_count": 20,
   "metadata": {},
   "outputs": [
    {
     "data": {
      "text/plain": [
       "(252, 14)"
      ]
     },
     "execution_count": 20,
     "metadata": {},
     "output_type": "execute_result"
    }
   ],
   "source": [
    "df.shape"
   ]
  },
  {
   "cell_type": "code",
   "execution_count": 21,
   "metadata": {},
   "outputs": [
    {
     "data": {
      "text/plain": [
       "CSUSHPISA                 0\n",
       "Year                      0\n",
       "Month                     0\n",
       "per_cap_gpd             168\n",
       "Cons_material_index       0\n",
       "Consumer_price_index      0\n",
       "emp_rate                  0\n",
       "unemp_rate                0\n",
       "fed_eff_r                 0\n",
       "new_pvt_units             0\n",
       "workin_pop                0\n",
       "housing_subs             12\n",
       "total_housholds           0\n",
       "med_house_inocome        12\n",
       "dtype: int64"
      ]
     },
     "execution_count": 21,
     "metadata": {},
     "output_type": "execute_result"
    }
   ],
   "source": [
    "df.isna().sum()"
   ]
  },
  {
   "cell_type": "markdown",
   "metadata": {},
   "source": [
    "The \"Per Capita GDP\" column has missing values because the data was quarterly. The missing values in the other columns are due to the unavailability of fresh data. We will first fill in the missing values in the \"Per Capita GDP\" column using linear interpolation. We will drop the rows with missing values in the other columns. This means that we will use data from 2004 to 2023"
   ]
  },
  {
   "cell_type": "code",
   "execution_count": 141,
   "metadata": {},
   "outputs": [],
   "source": [
    "# Filling missing values in the per_cap_gpd column using linear interpolation\n",
    "df[\"per_cap_gpd\"] = df[\"per_cap_gpd\"].interpolate()"
   ]
  },
  {
   "cell_type": "code",
   "execution_count": 142,
   "metadata": {},
   "outputs": [
    {
     "data": {
      "text/plain": [
       "CSUSHPISA                0\n",
       "Year                     0\n",
       "Month                    0\n",
       "per_cap_gpd              0\n",
       "Cons_material_index      0\n",
       "Consumer_price_index     0\n",
       "emp_rate                 0\n",
       "unemp_rate               0\n",
       "fed_eff_r                0\n",
       "new_pvt_units            0\n",
       "workin_pop               0\n",
       "housing_subs            12\n",
       "total_housholds          0\n",
       "med_house_inocome       12\n",
       "dtype: int64"
      ]
     },
     "execution_count": 142,
     "metadata": {},
     "output_type": "execute_result"
    }
   ],
   "source": [
    "df.isna().sum()\n"
   ]
  },
  {
   "cell_type": "code",
   "execution_count": 143,
   "metadata": {},
   "outputs": [],
   "source": [
    "df.dropna(inplace = True)"
   ]
  },
  {
   "cell_type": "code",
   "execution_count": 144,
   "metadata": {},
   "outputs": [
    {
     "data": {
      "text/plain": [
       "(240, 14)"
      ]
     },
     "execution_count": 144,
     "metadata": {},
     "output_type": "execute_result"
    }
   ],
   "source": [
    "df.shape"
   ]
  },
  {
   "cell_type": "code",
   "execution_count": 145,
   "metadata": {},
   "outputs": [
    {
     "data": {
      "text/plain": [
       "CSUSHPISA               0\n",
       "Year                    0\n",
       "Month                   0\n",
       "per_cap_gpd             0\n",
       "Cons_material_index     0\n",
       "Consumer_price_index    0\n",
       "emp_rate                0\n",
       "unemp_rate              0\n",
       "fed_eff_r               0\n",
       "new_pvt_units           0\n",
       "workin_pop              0\n",
       "housing_subs            0\n",
       "total_housholds         0\n",
       "med_house_inocome       0\n",
       "dtype: int64"
      ]
     },
     "execution_count": 145,
     "metadata": {},
     "output_type": "execute_result"
    }
   ],
   "source": [
    "df.isna().sum()"
   ]
  },
  {
   "cell_type": "code",
   "execution_count": 146,
   "metadata": {},
   "outputs": [
    {
     "data": {
      "text/plain": [
       "(240, 14)"
      ]
     },
     "execution_count": 146,
     "metadata": {},
     "output_type": "execute_result"
    }
   ],
   "source": [
    "df.shape"
   ]
  },
  {
   "cell_type": "code",
   "execution_count": null,
   "metadata": {},
   "outputs": [],
   "source": [
    "#df.to_csv(\"final_home_price_data.csv\")"
   ]
  }
 ],
 "metadata": {
  "kernelspec": {
   "display_name": "base",
   "language": "python",
   "name": "python3"
  },
  "language_info": {
   "codemirror_mode": {
    "name": "ipython",
    "version": 3
   },
   "file_extension": ".py",
   "mimetype": "text/x-python",
   "name": "python",
   "nbconvert_exporter": "python",
   "pygments_lexer": "ipython3",
   "version": "3.12.9"
  }
 },
 "nbformat": 4,
 "nbformat_minor": 2
}
